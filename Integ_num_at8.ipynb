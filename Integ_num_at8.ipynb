{
  "nbformat": 4,
  "nbformat_minor": 0,
  "metadata": {
    "colab": {
      "name": "Integ_num_at8.ipynb",
      "provenance": [],
      "collapsed_sections": [],
      "authorship_tag": "ABX9TyNuCE/GzCOmYi2cqLkWqE1J",
      "include_colab_link": true
    },
    "kernelspec": {
      "name": "python3",
      "display_name": "Python 3"
    },
    "language_info": {
      "name": "python"
    }
  },
  "cells": [
    {
      "cell_type": "markdown",
      "metadata": {
        "id": "view-in-github",
        "colab_type": "text"
      },
      "source": [
        "<a href=\"https://colab.research.google.com/github/fellypesb/calc-num/blob/main/Integ_num_at8.ipynb\" target=\"_parent\"><img src=\"https://colab.research.google.com/assets/colab-badge.svg\" alt=\"Open In Colab\"/></a>"
      ]
    },
    {
      "cell_type": "markdown",
      "metadata": {
        "id": "gbDUqtmj1U82"
      },
      "source": [
        "# **Integração Numérica**\n",
        "\n",
        "Atividade desenvolvida durante as aulas de Cálculo Numérico, ministrada pela prof. Dr. Helaine Furtado na Universidade Federal do Oeste do Pará.\n",
        "\n",
        "**Aluno:** Fellype Siqueira \n",
        "\n"
      ]
    },
    {
      "cell_type": "markdown",
      "metadata": {
        "id": "eSs5MfYjRDBM"
      },
      "source": [
        "A integração numérica consiste em aproximar integrais definidas de funções reais do tipo:\n",
        "\n",
        "<center>$I = \\int_a^b f(x)\\ dx$ </center>"
      ]
    },
    {
      "cell_type": "markdown",
      "metadata": {
        "id": "aj_Hgrv-R3MV"
      },
      "source": [
        "Sabe-se que, geometricamente, a integral $I$ corresponde a área entre o gráfico de $f(x)$ e o eixo das abscissas (eixo x). Como mostrado no exemplo abaixo:\n",
        "\n",
        "<img src=\"https://upload.wikimedia.org/wikipedia/commons/thumb/f/f2/Integral_as_region_under_curve.svg/1200px-Integral_as_region_under_curve.svg.png\" height=400>\n",
        "\n"
      ]
    },
    {
      "cell_type": "markdown",
      "metadata": {
        "id": "rhI_GG6SUmer"
      },
      "source": [
        "Porém, existe alguns casos em que não possível calcular a integral de forma trivial, ou a função é conhecida apenas nos pontos tabelados. Para solucionar este problema é que utiliza-se os métodos de integração numérica, veremos três métodos a seguir:\n",
        "\n",
        "- Por aproximação;\n",
        "- Pela somas de Riemann;\n",
        "- Pela regra dos trapézios."
      ]
    },
    {
      "cell_type": "markdown",
      "metadata": {
        "id": "dDotPzcqWRNd"
      },
      "source": [
        "# **Integração numérica por aproximação**"
      ]
    },
    {
      "cell_type": "markdown",
      "metadata": {
        "id": "DJwzf9zTWntc"
      },
      "source": [
        "Esse método consiste basicamente em dividir o intervalo $[a, b]$ original da integral em $n-1$ subintervalos. Formando um conjunto ordenado de pontos do tipo $a = x_1 < x_2 < ... < x_n = b$. Então temos:\n",
        "\n",
        "$I = \\int_a^bf(x) \\ dx$  \n",
        "$=\\int_{x_1}^{x^2}f(x) \\ dx+\\int_{x_2}^{x_3}f(x) \\ dx + ... + \\int_{x_{n-1}}^{x_n}f(x) \\ dx$  \n",
        "$= \\sum_{i=1}^{n-1}\\int_{x_i}^{x_i+1}f(x) \\ dx$\n"
      ]
    },
    {
      "cell_type": "markdown",
      "metadata": {
        "id": "0RT2b_yPdXCG"
      },
      "source": [
        "Supondo que o tamanho de cada subintervalo $h_i = x_{i+1} - x_i$ é suficientemente pequeno, podemos aproximar $f(x)$ no intervalo ($x_i$, $x_{i+1}$) por $f(x_i^*)$ escolhendo arbitrariamente $x_i^*$ $\\in$ [$x_i$,$x_{i+1}$]. Desta forma, temos  \n",
        "\n",
        "\n",
        "$\\int_{x_1}^{x_{i-1}} f(x) \\ dx \\approx f(x_i^*)h_i$ "
      ]
    },
    {
      "cell_type": "markdown",
      "metadata": {
        "id": "bPEAHAZqsVZo"
      },
      "source": [
        "## **Exemplo:**\n",
        "No exemplo abaixo, temos a função $f(x) = x^2 + 1$ com $0 \\leq x \\leq 2$. Podemos aproxima-la por retângulos com base $h_1 = 2$, $h_2 =1$ e $h_3 = 0,5$.  \n",
        "<img src=\"https://www.ufrgs.br/reamat/CalculoNumerico/livro-sci/main26x.png\" height=300>"
      ]
    },
    {
      "cell_type": "markdown",
      "metadata": {
        "id": "p9IkJ4VkxqzH"
      },
      "source": [
        "# **Somas de Rieman**\n",
        "\n",
        "A soma de Rieman consiste basicamente no cálculo aproximado de áreas através de alguns retângulos. Sabemos que a área de um retângulo é dado por $base * altura$, com essa mesma idéia podemos aproximar a área de uma integral definida, subdividindo seu intervalo $[a, b]$ em $n$ intervalos menores obtendo  retângulos de mesma base, em seguinda, realizamos a soma da área de cada retângulo formado para obtermos uma aproximação da integral. A altura dos triângulos é definido pelo valor da função nos pontos amostrais.\n",
        "\n",
        "$\\int_a^bf(x) \\ dx \\approx \\sum_{i=1}^n\\frac{b-a}{n}f(x_i)$  \n",
        "  \n",
        "\n",
        "\n",
        "<img src=\"https://encrypted-tbn0.gstatic.com/images?q=tbn:ANd9GcTfOQ2rFYNcrSvMrQjh_fpGAvVxmogEYNkWDQ&usqp=CAU\" height=200>\n"
      ]
    },
    {
      "cell_type": "markdown",
      "metadata": {
        "id": "3uGX_J5z2wtN"
      },
      "source": [
        "# **Regra dos trapézios**\n",
        "\n",
        "A regra do trapézio consiste em aproximar uma função $f(x)$ por um polinômio de grau 1. A regra do trapézio é dada por:\n",
        "\n",
        "$\\int_a^bf(x)dx\\approx\\left (\\frac{1}{2}f(a)+\\frac{1}{2}f(b)\\right )h$\n",
        "\n",
        "<img src=\"https://www.math.tecnico.ulisboa.pt/~calves/cursos/int-1.gif\" height=300>"
      ]
    },
    {
      "cell_type": "markdown",
      "metadata": {
        "id": "eUCS0jHIgvJ_"
      },
      "source": [
        "# **Exemplo:**\n",
        "\n",
        "Seja $f(x) = \\frac{1}{x}$, o intervalo [3,0; 3,6] e $n=1$. Calcule o valor aproximado da integral.\n",
        "\n",
        "$\\int_3^{3,6}\\frac{1}{x} \\ dx$\n",
        "\n",
        "Para resolvermos simplesmente usamos a fórmula apresentada anteriormente\n",
        "\n",
        "$\\int_3^{3,6}\\frac{1}{x}dx\\approx\\left (\\frac{1}{2}f(a)+\\frac{1}{2}f(b)\\right )*h$\n",
        "\n",
        "$= \\left (\\frac{1}{2}0,333+\\frac{1}{2}0,278\\right )*(3,6 - 3,0)$\n",
        "\n",
        "$= (0,1665 + 0,139)*0,6$\n",
        "\n",
        "$= 0,3055 * 0,6 $\n",
        "\n",
        "$= 0,1833$"
      ]
    },
    {
      "cell_type": "markdown",
      "metadata": {
        "id": "eQ8fTFIEngrw"
      },
      "source": [
        "# **Regra do trapézio composta**\n",
        "\n"
      ]
    },
    {
      "cell_type": "markdown",
      "metadata": {
        "id": "UmiQO6HNo3GD"
      },
      "source": [
        "Muitas vezes a aproximação obtida com a regra do trapézio simples é muito grosseira. Para melhorarmos essa aproximação, podemos decompor o intervalo $[a, b]$ da integral em sub-intervalos cada vez menores, e nesses sub-intervalos aplicar a regra dos trapézios simples. A regra do trapézio composta pode ser expressa da  seguinte forma:\n",
        "\n",
        "$\\int_{x_0}^{x_n}f(x) \\ dx \\approx \\frac{h}{2}\\{f(x_0)+2[f(x_1)+f(x_2)+ ... + f(x_{n-1})]+f(x_n)\\}$\n"
      ]
    },
    {
      "cell_type": "markdown",
      "metadata": {
        "id": "82Y10CIpsQU8"
      },
      "source": [
        "# **Exemplo:**\n",
        "\n",
        "Seja $f(x) = \\frac{1}{x}$, o intervalo $[3,0; 3,6]$ e $n=3$. Calcule o valor aproximado da integral:\n",
        "\n",
        "$\\int_{3}^{3,6}\\frac{1}{x} \\ dx$\n",
        "\n",
        "Aplicando a fórmula apresentada anteriormente obtemos:\n",
        "\n",
        "$\\int_{3}^{3,6}\\dfrac{1}{x} \\ dx \\approx \\frac{3,6-3}{3}\\{f(3)+2[f(3,2)+f(3,4)]+f(3,6)\\}$\n",
        "\n",
        "$ = 0,2\\{0,3333+2[0,3125+0,2941]+0,2778\\}$\n",
        "\n",
        "$= 0,2\\{0,3333+1,2132+0,2778\\}$\n",
        "\n",
        "$= 0,2\\{1,8243\\}$\n",
        "\n",
        "$= 0,36486$\n"
      ]
    },
    {
      "cell_type": "markdown",
      "metadata": {
        "id": "AmJHeGkyzbpj"
      },
      "source": [
        "# **Erro para a regra do trapézio**\n",
        "\n",
        "O erro na regra do trapézio pode ser obtido integrando o erro da interpolação de Lagrange. Assim o erro na regra do trapézio é:\n",
        "\n",
        "$|E_t|\\leq\\frac{(b-a)^3}{12}\\max_{x\\in[a,b]}|f''(x)|$\n",
        "\n"
      ]
    }
  ]
}