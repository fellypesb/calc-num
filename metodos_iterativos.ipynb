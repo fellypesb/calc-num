{
  "nbformat": 4,
  "nbformat_minor": 0,
  "metadata": {
    "kernelspec": {
      "display_name": "Python 3",
      "language": "python",
      "name": "python3"
    },
    "language_info": {
      "codemirror_mode": {
        "name": "ipython",
        "version": 3
      },
      "file_extension": ".py",
      "mimetype": "text/x-python",
      "name": "python",
      "nbconvert_exporter": "python",
      "pygments_lexer": "ipython3",
      "version": "3.8.5"
    },
    "colab": {
      "name": "metodos_iterativos.ipynb",
      "provenance": [],
      "collapsed_sections": [],
      "include_colab_link": true
    }
  },
  "cells": [
    {
      "cell_type": "markdown",
      "metadata": {
        "id": "view-in-github",
        "colab_type": "text"
      },
      "source": [
        "<a href=\"https://colab.research.google.com/github/fellypesb/calc-num/blob/main/metodos_iterativos.ipynb\" target=\"_parent\"><img src=\"https://colab.research.google.com/assets/colab-badge.svg\" alt=\"Open In Colab\"/></a>"
      ]
    },
    {
      "cell_type": "markdown",
      "metadata": {
        "id": "9feBykdgKLDM"
      },
      "source": [
        "# **Calculando o de zero de funções com métodos iterativos**\n",
        "\n",
        "Atividade desenvolvida durante as aulas de Cálculo Numérico, ministrada pela Prof. Dr. Helaine Cristina na Universidade Federal do Oeste do Pará (UFOPA).\n",
        "\n",
        "**Aluno**: Fellype Siqueira Barroso\n"
      ]
    },
    {
      "cell_type": "markdown",
      "metadata": {
        "id": "_bHxaf22Kqb1"
      },
      "source": [
        "## **Análise gráfica**\n",
        "\n",
        "Analisando o gráfico da função podemos identificar e isolar as raízes.  Isso pode falicitar a escolha dos valores de _chute_ inicial que precisam ser fornecidos aos métodos que serão apresentados a seguir\n",
        "\n",
        "Utilizaremos a seguinte função:\n",
        "\n",
        "$f(x) = x^3-9x+3$"
      ]
    },
    {
      "cell_type": "code",
      "metadata": {
        "colab": {
          "base_uri": "https://localhost:8080/",
          "height": 265
        },
        "id": "2TQQTW2FKLDr",
        "outputId": "16517a65-4a4c-4416-d44e-d5524cd79c34"
      },
      "source": [
        "import numpy as np\n",
        "import matplotlib.pyplot as plt\n",
        "\n",
        "function = lambda x : x**3-9*x+3\n",
        "\n",
        "x = np.linspace(-4,4)\n",
        "plt.plot(x, function(x))\n",
        "plt.grid()\n",
        "plt.show()"
      ],
      "execution_count": 1,
      "outputs": [
        {
          "output_type": "display_data",
          "data": {
            "image/png": "[encoded data removed]",
            "text/plain": [
              "<Figure size 432x288 with 1 Axes>"
            ]
          },
          "metadata": {
            "tags": [],
            "needs_background": "light"
          }
        }
      ]
    },
    {
      "cell_type": "markdown",
      "metadata": {
        "id": "P2Noh0qDL4WB"
      },
      "source": [
        "Ao analisar o gráfico podemos identicar 3 raízes localizadas nos intervalos:\n",
        "\n",
        "- $[-4, -3]$  \n",
        "- $[0, 1]$ \n",
        "- $[2, 3]$   \n",
        "\n"
      ]
    },
    {
      "cell_type": "markdown",
      "metadata": {
        "id": "hpL55tsqKLDa"
      },
      "source": [
        "### **Método da bisseção**\n",
        "Para esse método é necessário que seja fornecido um intervalo $[a, b]$ no qual se encontra a raiz que queremos encontrar. Neste caso, utilizaremos os intervalos já conhecidos que foram obtidos ao analisarmos o gráfico da função. Importante ressaltar que a aproximação so é possível caso o seguinte critério seja satisfeito:\n",
        "\n",
        "> $f(a) f(b) > 0$\n",
        "\n",
        "---\n",
        "\n",
        "Este método caminha para a convergência de acordo com o seguinte processo iterativo:\n",
        "\n",
        "\n",
        "\n",
        "> $x = \\dfrac{a + b}{2}$\n",
        "\n"
      ]
    },
    {
      "cell_type": "code",
      "metadata": {
        "colab": {
          "base_uri": "https://localhost:8080/"
        },
        "id": "V_pnu6mnKLDe",
        "outputId": "6d6677a2-e881-4dea-aebb-a857c702c50d"
      },
      "source": [
        "# Implementação do método da Bissecção\n",
        "\n",
        "def bisseccao(a, b, f, tol=1e-8, maxiter=20, verbose=False):\n",
        "    '''\n",
        "        Função que calcula o zero de uma função com o método da Bissecção.\n",
        "        \n",
        "        Parametros\n",
        "        --------------\n",
        "        a: float\n",
        "            Extremo esquerdo do intervalo de inspeção [a,b].\n",
        "            \n",
        "        b: float\n",
        "            Extremo direito do intervalo de inspeção [a,b].\n",
        "            \n",
        "        f: lambda\n",
        "            Função a qual queremos encontrar suas raízes.\n",
        "        \n",
        "        tol: float, default=1e-8\n",
        "            Tolerancia para critério de parada.\n",
        "          \n",
        "        maxiter: int, default=20\n",
        "            Quantidade máxima de iterações desejadas.\n",
        "        \n",
        "        verbose: bool, default=False\n",
        "            True, Caso queira visualizar o progresso das iterações.\n",
        "            \n",
        "        Saída\n",
        "        -----------\n",
        "        Quantidade de iterações necessária para convergência\n",
        "        e valor x, tal que f(x) é aprox. 0.\n",
        "    '''\n",
        "    \n",
        "    if f(a)*f(b) > 0:\n",
        "        raise ValueError(\"Não há raiz no intervalo fornecido\")\n",
        "        \n",
        "    iter_ = 0\n",
        "    \n",
        "    while(iter_ <= maxiter and abs(b - a) > tol):\n",
        "        x = (a + b)/2      \n",
        "\n",
        "        f_a = f(a)\n",
        "        f_b = f(b)\n",
        "        f_x = f(x)\n",
        "\n",
        "        if(f_a * f_x > 0):\n",
        "            a = x\n",
        "        else:\n",
        "            b = x\n",
        "            \n",
        "        iter_ += 1\n",
        "        if verbose:\n",
        "            print(f'Iteração: {iter_} \\t Aproximação: {x}')\n",
        "    if iter_ > maxiter:\n",
        "        print(\"Número máximo de iterações alcançado!\")\n",
        "    else:\n",
        "        print(f'Iterações: {iter_} \\t Raiz: {x}')\n",
        "    \n",
        "function = lambda x : x**3-9*x+3\n",
        "\n",
        "bisseccao(a=-4, b=-3, f=function, tol=1e-8, maxiter=30)\n",
        "bisseccao(a=0, b=1, f=function, tol=1e-8, maxiter=30)\n",
        "bisseccao(a=2, b=3, f=function, tol=1e-8, maxiter=30)\n"
      ],
      "execution_count": 2,
      "outputs": [
        {
          "output_type": "stream",
          "text": [
            "Iterações: 27 \t Raiz: -3.1545230075716972\n",
            "Iterações: 27 \t Raiz: 0.3376089558005333\n",
            "Iterações: 27 \t Raiz: 2.8169140592217445\n"
          ],
          "name": "stdout"
        }
      ]
    },
    {
      "cell_type": "markdown",
      "metadata": {
        "id": "eQjJ7O4hQrvR"
      },
      "source": [
        "Ao fornecer os intervalos em que se encontram as raízes da função podemos observar, na célula de código acima, que o método da bissecção necessitou de 27 (vinte e sete) iterações para a convergência e retornou os seguintes valores:  \n",
        "- $X_1 \\approx -3.15452$  \n",
        "- $X_2 \\approx 0.33760$  \n",
        "- $X_3 \\approx 2.81691$\n",
        "\n"
      ]
    },
    {
      "cell_type": "markdown",
      "metadata": {
        "id": "D_MepaN8SR9H"
      },
      "source": [
        "Para conferir a veracidade dos resultados podemos novamente analisar o gráfico da função, desta vez, fornecendo as raízes encontradas pelo método da bissecção."
      ]
    },
    {
      "cell_type": "code",
      "metadata": {
        "colab": {
          "base_uri": "https://localhost:8080/",
          "height": 265
        },
        "id": "GOMDCwGkS_bL",
        "outputId": "b2da61c9-5440-48ab-a3b5-1a579a8a47c0"
      },
      "source": [
        "function = lambda x : x**3-9*x+3\n",
        "\n",
        "x = np.linspace(-4,4)\n",
        "plt.plot(x, function(x))\n",
        "plt.scatter([-3.15452, 0.33760, 2.81691], [0,0,0], label='zeros da função', c='r')\n",
        "plt.grid()\n",
        "plt.legend()\n",
        "plt.show()"
      ],
      "execution_count": 3,
      "outputs": [
        {
          "output_type": "display_data",
          "data": {
            "image/png": "[encoded data removed]",
            "text/plain": [
              "<Figure size 432x288 with 1 Axes>"
            ]
          },
          "metadata": {
            "tags": [],
            "needs_background": "light"
          }
        }
      ]
    },
    {
      "cell_type": "markdown",
      "metadata": {
        "id": "bR5piebFUGwA"
      },
      "source": [
        "# **Método do Ponto Fixo**\n",
        "\n",
        "Para utilizarmos este método primeiro precisamos isolar a variável $x$ de $f(x)$ em que ressultará em uma $g(x)$. Essa função $g(x)$ que então será utilizada pelo processo iterativo do método para encontrar as raízes de função.\n",
        "\n",
        "Considere a função: $f(x) = xe^x-1$\n",
        "\n",
        "As possíveis $g(x)$ que podemos formar realizando manipulações algébricas são:\n",
        "\n",
        "\n",
        "\n",
        "> $g_1(x) = \\frac{1}{e^x}$  \n",
        "\n",
        "> $g_2(x) = \\frac{1+x}{1+e^x}$\n",
        "\n",
        "> $g_3(x) = x + 1 - xe^x$\n",
        "\n",
        "\n",
        "\n",
        "\n",
        "\n",
        "---\n",
        "\n",
        "\n",
        "\n",
        "O processo iterativo desse método é realizado da seguinte forma:\n",
        "\n",
        "\n",
        "\n",
        "> $x = g(x)$\n",
        "\n"
      ]
    },
    {
      "cell_type": "code",
      "metadata": {
        "colab": {
          "base_uri": "https://localhost:8080/"
        },
        "id": "eBVX4iWtKLDv",
        "outputId": "a7f13335-9534-4f12-992b-c3724edb1e4e"
      },
      "source": [
        "# implementação do método do Ponto Fixo\n",
        "\n",
        "def fixedpoint(x, g, tol=1e-8, maxiter=20, verbose=False):\n",
        "    '''\n",
        "        Função que calcula o zero de funções com o método do Ponto Fixo.\n",
        "        \n",
        "        Parâmetros\n",
        "        --------------\n",
        "        x: float\n",
        "            chute inicial.\n",
        "            \n",
        "        g: lambda\n",
        "            Função alcançada apartir de f(x).\n",
        "            Ex: f(x) = xe^x-1; g(x) = 1/e^x\n",
        "        \n",
        "        tol: float, default=1e-8\n",
        "            Tolerancia para critério de parada.\n",
        "        \n",
        "        maxiter: int, default=20\n",
        "            Quantidade máxima de iterações desejadas.\n",
        "        \n",
        "        verbose: bool, default=False\n",
        "            True, Caso queira visualizar o progresso das iterações.\n",
        "            \n",
        "        Saída\n",
        "        -----------\n",
        "        Quantidade de iterações necessária para convergência\n",
        "        e valor x, tal que f(x) é aprox. 0.\n",
        "    '''\n",
        "    iter_ = 0 \n",
        "    xi = x\n",
        "    xj = x\n",
        "    err = np.inf\n",
        "    while( iter_ <= maxiter and abs(err) > tol):\n",
        "        xi = g(xj)\n",
        "        err = (xi-xj)\n",
        "        xj = xi\n",
        "        iter_ += 1\n",
        "        if verbose:\n",
        "            print(f'Iterações: {iter_} \\t Aproximação: {xi}') \n",
        "    if iter_ > maxiter:\n",
        "        print(\"Número máximo de iterações alcançado!\")\n",
        "    else:\n",
        "        print(f'Iterações: {iter_} \\t Raiz: {xi}') \n",
        "\n",
        "# f(x) = xe^x-1 \n",
        "g1 = lambda x: 1/np.exp(x)             # Converge lentamente\n",
        "g2 = lambda x: (1+x)/(1+np.exp(x))     # Converge rapidamente\n",
        "g3 = lambda x: x + 1 - x*np.exp(x)     # Não converge\n",
        "\n",
        "fixedpoint(0.5, g1, maxiter=30, tol=1e-8)\n",
        "fixedpoint(0.5, g2, tol=1e-8)\n",
        "fixedpoint(0.5, g3, tol=1e-8, maxiter=100)\n"
      ],
      "execution_count": 4,
      "outputs": [
        {
          "output_type": "stream",
          "text": [
            "Iterações: 30 \t Raiz: 0.5671432876111684\n",
            "Iterações: 4 \t Raiz: 0.5671432904097838\n",
            "Número máximo de iterações alcançado!\n"
          ],
          "name": "stdout"
        }
      ]
    },
    {
      "cell_type": "markdown",
      "metadata": {
        "id": "nTTad-woZjCc"
      },
      "source": [
        "Utilizando um _chute_ inicial de $0.5$ e critério de tolerância $1.10^{-8}$ foi possível constatar, que, utilizando a $g_2(x)$ o método converge rapidamente, isto é com a menor quantidade de iterações necessária. Já quando utilizamos a $g_1(x)$ a convergência acontece de forma mais lenta, necessitando de $30$ iterações. Um caso excepcional ocorreu com a $g_3(x)$ que mesmo configurando um número extremante grande de iterações o método não chegou a convergir para $x^*$ "
      ]
    },
    {
      "cell_type": "markdown",
      "metadata": {
        "id": "E3alLmLQbKRO"
      },
      "source": [
        "## **Método de Newton**\n",
        "\n",
        "Para este método, além de fornecermos a função que queremos encontras as raízes precisamos támbem, fornecer a sua derivada. Pois, esse método converge para $x^*$ a partir de múltiplas retas tangentes traçadas ao longo da função.\n",
        "\n",
        "Utilizaremos a mesma função testada com o método da bisseccção que foi.    \n",
        "\n",
        "\n",
        "> $f(x) = x^3 - 9x + 3$\n",
        "\n",
        "\n",
        "\n",
        "Calculando a sua derivada obteve-se:  \n",
        "> $f'(x) = 2x^2 - 9$\n",
        "\n",
        "\n",
        "\n",
        "\n",
        "---\n",
        "\n",
        "\n",
        "O processo iterativo desse método é realizado da seguinte forma:  \n",
        "\n",
        "\n",
        "> $x = x - \\frac{f(x)}{f'(x)}$\n",
        "\n"
      ]
    },
    {
      "cell_type": "code",
      "metadata": {
        "colab": {
          "base_uri": "https://localhost:8080/"
        },
        "id": "YAEXkv9CKLDz",
        "outputId": "1d8a110b-9278-4420-a206-634e30e113de"
      },
      "source": [
        "# Implementação do método de Newton\n",
        "def newton(x, f, df, tol=1e-8, maxiter=20, verbose=False):\n",
        "    '''\n",
        "        Função que calcula o zero de funções com o método de Newton.\n",
        "        \n",
        "        Parametros\n",
        "        --------------\n",
        "        x: float\n",
        "            chute inicial.\n",
        "            \n",
        "        f: lambda\n",
        "            Função a qual queremos encontrar suas raízes\n",
        "        \n",
        "        df: lambda\n",
        "            Derivada da função f\n",
        "        \n",
        "        tol: float, default=1e-8\n",
        "            Tolerancia para critério de parada.\n",
        "        \n",
        "        maxiter: int, default=20\n",
        "            Quantidade máxima de iterações desejadas.\n",
        "        \n",
        "        verbose: bool, default=False\n",
        "            True, Caso queira visualizar o progresso das iterações.\n",
        "            \n",
        "        Saída\n",
        "        -----------\n",
        "        Quantidade de iterações necessária para convergência\n",
        "        e valor x, tal que f(x) é aprox. 0\n",
        "    '''\n",
        "    iter_ = 0 \n",
        "    while( iter_ <= maxiter and abs(f(x)) > tol):\n",
        "\n",
        "        x = x - (f(x)/df(x)) \n",
        "        iter_ += 1\n",
        "        if verbose:\n",
        "             print(f'Iterações: {iter_} \\t Aproximação: {x}') \n",
        "    if iter_ > maxiter:\n",
        "        print(\"Número máximo de iterações alcançado!\")\n",
        "    else:\n",
        "        print(f'Iterações: {iter_} \\t Raiz: {x}')       \n",
        "\n",
        "f = lambda x: x**3-9*x+3\n",
        "df = lambda x:3*x**2-9\n",
        "\n",
        "newton(0.5, f, df, tol=1e-8)"
      ],
      "execution_count": 5,
      "outputs": [
        {
          "output_type": "stream",
          "text": [
            "Iterações: 3 \t Raiz: 0.3376089559653128\n"
          ],
          "name": "stdout"
        }
      ]
    },
    {
      "cell_type": "markdown",
      "metadata": {
        "id": "Bbc3wSNVeTmH"
      },
      "source": [
        "Utilizando um chute inicial de $0.5$ e tolerância de erro $1.10^{-8}$ o método de Newton foi capaz de convergir em apenas 3 (três) iterações. Convergência muita rápida se comparado com o método da Bisseccção que necessitou de 27 (vinte e sete) iterações para realizar a mesma convergência."
      ]
    },
    {
      "cell_type": "markdown",
      "metadata": {
        "id": "KTXRIaeDe_-2"
      },
      "source": [
        "## **Método da Secante**\n",
        "\n",
        "O método da secante pode ser entedido como uma variação do método de Newton e utilizado principalmente em casos onde não é possível calcular a derivada de $f(x)$. A especificidade deste método está no fato de ser necessário forcermos dois _chutes_ inicias e não apenas um.\n",
        "\n",
        "Para fins de comparação testaremos esse método utilizando a mesma função de teste do método anterior.\n",
        "\n",
        "\n",
        "> $f(x) = x^3 - 9x + 3$\n",
        "\n",
        "\n",
        "\n",
        "---\n",
        "\n",
        "Considerando que $x_1$ e $x_2$ são _chutes_ iniciais. O processo iterativo deste método é realizado da seguinte forma:\n",
        "\n",
        "> $x = \\dfrac{x_1f(x_2) - x_2f(x_1)}{f(x_2) - f(x_1)}$\n",
        "\n",
        "\n",
        "\n",
        "\n"
      ]
    },
    {
      "cell_type": "code",
      "metadata": {
        "colab": {
          "base_uri": "https://localhost:8080/"
        },
        "id": "840juKtxKLD4",
        "outputId": "e655631b-e8c8-412f-a441-df824f683034"
      },
      "source": [
        "# Implementação do método da secante\n",
        "\n",
        "def secant(x1, x2, f, tol=1e-8, maxiter=20, verbose=False):\n",
        "    '''\n",
        "        Função que calcula o zero de funções com o método da Secante.\n",
        "        \n",
        "        Parametros\n",
        "        --------------\n",
        "        x1: float\n",
        "            Primeiro chute inicial.\n",
        "        \n",
        "        x2: float\n",
        "            Segundo chute inicial.\n",
        "            \n",
        "        f: lambda\n",
        "            Função a qual queremos encontrar suas raízes.\n",
        "        \n",
        "        tol: float, default=1e-8\n",
        "            Tolerancia para critério de parada.\n",
        "        \n",
        "        maxiter: int, default=20\n",
        "            Quantidade máxima de iterações desejadas.\n",
        "\n",
        "        verbose: bool, default=False\n",
        "            True, Caso queira visualizar o progresso das iterações.\n",
        "            \n",
        "        Saída\n",
        "        -----------\n",
        "        Quantidade de iterações necessária para convergência\n",
        "        e valor x, tal que f(x) é aprox. 0\n",
        "    '''\n",
        "    \n",
        "    \n",
        "    iter_ = 0\n",
        "    \n",
        "    while( iter_ <= maxiter and abs(f(x2)) > tol):\n",
        "        c = x2\n",
        "        x2 = (x1*f(x2) - x2*f(x1)) / (f(x2) - f(x1))\n",
        "        x1 = c\n",
        "        iter_ += 1\n",
        "        if verbose:\n",
        "            print(f'Iterações: {iter_} \\t Raiz: {x2}')\n",
        "            \n",
        "    if iter_ > maxiter:\n",
        "        print(\"Número máximo de iterações alcançado!\")\n",
        "    else:\n",
        "        print(f'Iterações: {iter_} \\t Raiz: {x2}')  \n",
        "        \n",
        "f = lambda x: x**3-9*x+3\n",
        "\n",
        "secant(0, 1, f, tol=1e-8)"
      ],
      "execution_count": 6,
      "outputs": [
        {
          "output_type": "stream",
          "text": [
            "Iterações: 5 \t Raiz: 0.33760895596578694\n"
          ],
          "name": "stdout"
        }
      ]
    },
    {
      "cell_type": "markdown",
      "metadata": {
        "id": "BfhgNWeBieAT"
      },
      "source": [
        "Utilizando os _chutes_ iniciais $0$ e $1$, tolerância de erro $1.10^{−8}$ o método da Secante consegui alcançar a convergẽncia em 5 (cinco) iterações, como pode ser observado na célula acima. Convergência mais rápida se comparado com o método da Bisseccção, porém um pouco mais lenta se comparado com o método de Newton que necessitou de apenas 3 (três) iterações."
      ]
    },
    {
      "cell_type": "markdown",
      "metadata": {
        "id": "ninaAI-2jyaL"
      },
      "source": [
        "# **Tabela de Comparações**\n",
        "\n",
        "Utilizando a função $f(x) = x^{3}-9x+3$ e $tol = 1.10^{-8}$ foi realizado uma comparação entre os métodos de Bissecção, Newton e Secante. Na tabela abaixo é apresentado os resultados.\n",
        "\n",
        "Método |Valores iniciais| iterações|Raízes\n",
        "-------|:----------------:|:----------:|--------\n",
        "Bissecção|$[0, 1]$|27|0.3376089558005333\n",
        "Newton|$x$ =0.5|3| 0.3376089559653128\n",
        "Secante|$x_1$=0, $x_2$=1|5|0.33760895596578694\n",
        "\n",
        "\n",
        "Podemos verificar que para esse estudo de caso e valores inicias fornecidos, o método da Bissecção foi o mais demorado e o método de Newton o mais rápido com significativa discrepância entre a quantidade de iterações necessárias para atingir a convergência."
      ]
    }
  ]
}