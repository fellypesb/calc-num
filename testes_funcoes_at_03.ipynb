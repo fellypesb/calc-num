{
  "nbformat": 4,
  "nbformat_minor": 0,
  "metadata": {
    "colab": {
      "name": "testes_funcoes_at-03.ipynb",
      "provenance": [],
      "collapsed_sections": [],
      "authorship_tag": "ABX9TyNsR/XAv/5tJ6QP7SoWDBIE",
      "include_colab_link": true
    },
    "kernelspec": {
      "name": "python3",
      "display_name": "Python 3"
    },
    "language_info": {
      "name": "python"
    }
  },
  "cells": [
    {
      "cell_type": "markdown",
      "metadata": {
        "id": "view-in-github",
        "colab_type": "text"
      },
      "source": [
        "<a href=\"https://colab.research.google.com/github/fellypesb/calc-num/blob/main/testes_funcoes_at_03.ipynb\" target=\"_parent\"><img src=\"https://colab.research.google.com/assets/colab-badge.svg\" alt=\"Open In Colab\"/></a>"
      ]
    },
    {
      "cell_type": "markdown",
      "metadata": {
        "id": "XfjAAR-AYNtb"
      },
      "source": [
        "# **Comparação entre métodos iterativos aplicados no cálculo de zero de funções**\n",
        "\n",
        "Atividade desenvolvida durante as aulas de Cálculo Numérico ministrada pela prof. Dr. Helaine Furtado na Universidade Federal do Oeste do Pará (UFOPA).\n",
        "\n",
        "- **Equipe:** \n",
        "        Almiriane Goulart  \n",
        "        Davi Lima Rodrigues\n",
        "        Fellype Siqueira Barroso\n",
        "          \n",
        "\n",
        "  \n",
        "        "
      ]
    },
    {
      "cell_type": "markdown",
      "metadata": {
        "id": "87glD0r_T1VE"
      },
      "source": [
        "# **Teste de funções**\n",
        "O teste de funções foi realizada a partir da classe `IterativeMethods()`. Nesta classe, encontra-se a implementação de 4 métodos iterativos:\n",
        "\n",
        "- Método da Bissecção;\n",
        "- Método de Newton;\n",
        "- Método da Secante;\n",
        "- Método do Ponto Fixo.\n",
        "\n",
        "O construtor desta classe recebe 4 importantes parâmetros que são acessíveis a todos os métodos e que são definidos pelo estudo comparativo que desejamos realizar. São eles: função `f`, critério de erro `tol`, número máximo de iterações `maxiter`, casas decimais de precisão para os resultados `round_`."
      ]
    },
    {
      "cell_type": "code",
      "metadata": {
        "id": "dRAxfmvuXld7"
      },
      "source": [
        "import numpy as np\n",
        "\n",
        "class IterativeMethods:\n",
        "    '''\n",
        "    Esta classe implementa 4 métodos iterativos que podem ser \n",
        "    utilizados para encontrar zeros de funções. \n",
        "    \n",
        "    Parâmetros\n",
        "    --------------\n",
        "    f: lambda\n",
        "        Função a qual irá ser utilizada em todos os métodos com \n",
        "        objetivo de encontrar suas raízes.\n",
        "\n",
        "    tol: float\n",
        "        Tolerância para critério de parada dos métodos.\n",
        "        \n",
        "    maxiter: int\n",
        "        Número máximo de iterações desejadas.\n",
        "\n",
        "    round_: int\n",
        "         Número de casas decimais de precisão desejada.\n",
        "         \n",
        "    '''\n",
        "    \n",
        "    def __init__(self, f, tol:float, maxiter:int, round_:int):\n",
        "        self.f = f\n",
        "        self.tol = tol\n",
        "        self.maxiter = maxiter\n",
        "        self.round_ = round_\n",
        "        \n",
        "    def bisseccao(self, a, b, verbose=False):\n",
        "        '''\n",
        "            Função que calcula o zero de funções com o método da Bissecção.\n",
        "            \n",
        "            O processo iterativo deste método é realizado da seguinte forma:\n",
        "            \n",
        "            x = (a + b)/2\n",
        "\n",
        "            Parâmetros\n",
        "            --------------\n",
        "            a: float\n",
        "                Extremo esquerdo do intervalo de inspeção [a,b].\n",
        "\n",
        "            b: float\n",
        "                Extremo direito do intervalo de inspeção [a,b].\n",
        "\n",
        "            verbose: bool, default=False\n",
        "                Se True, o progresso das iterações é impresso na tela.\n",
        "\n",
        "            Saída\n",
        "            -----------\n",
        "            dict contendo a quantidade de iterações necessárias para\n",
        "            convergência, valor x^* e f(x^*) tal que f(x^*) é aprox. 0.\n",
        "        '''\n",
        "        \n",
        "        if self.f(a)*self.f(b) > 0:\n",
        "            raise ValueError(\"Não há raiz no intervalo fornecido.\")\n",
        "\n",
        "        iter_ = 0\n",
        "\n",
        "        while(iter_ <= self.maxiter and round(abs(b - a), self.round_) > self.tol):\n",
        "            x = round((a + b)/2, self.round_)      \n",
        "\n",
        "            f_a = round(self.f(a), self.round_)\n",
        "            f_b = round(self.f(b), self.round_)\n",
        "            f_x = round(self.f(x), self.round_)\n",
        "\n",
        "            product = round((f_a * f_x), self.round_)\n",
        "            if(product > 0):\n",
        "                a = x\n",
        "            else:\n",
        "                b = x\n",
        "\n",
        "            iter_ += 1\n",
        "            if verbose:\n",
        "                print(f'Iteração: {iter_} \\t f(a): {f_a} \\t f(b): {f_b} \\t f(x): {f_x} \\t Aproximação: {x}')\n",
        "        if iter_ > self.maxiter:\n",
        "            print(\"Número máximo de iterações alcançado!\")\n",
        "        else:\n",
        "            return {'iter':iter_, 'raiz':x, 'f(x)':round(self.f(x), self.round_)}\n",
        "    \n",
        "    def fixedpoint(self, x0, g, verbose=False):\n",
        "        '''\n",
        "            Função que calcula o zero de funções com o método do Ponto Fixo.\n",
        "            O processo iterativo é realizado da seguinte forma:\n",
        "\n",
        "            x = g(x)\n",
        "\n",
        "            Parâmetros\n",
        "            --------------\n",
        "            x0: float\n",
        "                Chute inicial.\n",
        "\n",
        "            g: lambda\n",
        "                Função alcançada apartir de f(x).\n",
        "                Ex: f(x) = xe^x-1\n",
        "                    g(x) = 1/e^x\n",
        "\n",
        "            verbose: bool, default=False\n",
        "                Se True, o progresso das iterações é impresso na tela.\n",
        "\n",
        "            Saída\n",
        "            -----------\n",
        "            dict contendo a quantidade de iterações necessárias para\n",
        "            convergência, valor x^* e f(x^*) tal que f(x^*) é aprox. 0.\n",
        "        '''\n",
        "        \n",
        "        iter_ = 0 \n",
        "        while( iter_ <= self.maxiter and round(abs(self.f(x0)), self.round_) > self.tol):\n",
        "            x0 = round(g(x0), self.round_)\n",
        "            iter_ += 1\n",
        "            if verbose:\n",
        "                print(f'Iterações: {iter_} \\t Aproximação: {x0}') \n",
        "        if iter_ > self.maxiter:\n",
        "            print(\"Número máximo de iterações alcançado!\")\n",
        "        else:\n",
        "            return {'iter':iter_, 'raiz':x0, 'f(x)':round(self.f(x0), self.round_)}\n",
        "        \n",
        "    def newton(self, x0, df, verbose=False):\n",
        "        '''\n",
        "            Função que calcula o zero de funções com o método de Newton.\n",
        "            O processo iterativo é realizado da seguinte forma:\n",
        "\n",
        "            x = x - f(x)/f'(x)\n",
        "\n",
        "            Parâmetros\n",
        "            --------------\n",
        "            x0: float\n",
        "                Chute inicial.\n",
        "\n",
        "            df: lambda\n",
        "                Derivada da função a qual queremos encontrar suas raízes.\n",
        "\n",
        "            verbose: bool, default=False\n",
        "                Se True, o progresso das iterações é impresso na tela.\n",
        "\n",
        "            Saída\n",
        "            -----------\n",
        "            dict contendo a quantidade de iterações necessárias para\n",
        "            convergência, valor x^* e f(x^*) tal que f(x^*) é aprox. 0.\n",
        "        '''\n",
        "        \n",
        "        iter_ = 0 \n",
        "        while( iter_ <= self.maxiter and round(abs(self.f(x0)), self.round_) > self.tol):\n",
        "\n",
        "            x0 = round(x0 - (self.f(x0)/df(x0)), self.round_)\n",
        "            iter_ += 1\n",
        "            if verbose:\n",
        "                 print(f'Iterações: {iter_} \\t Aproximação: {x0}') \n",
        "        if iter_ > self.maxiter:\n",
        "            print(\"Número máximo de iterações alcançado!\")\n",
        "        else:\n",
        "            return {'iter':iter_, 'raiz':x0, 'f(x)':round(self.f(x0), self.round_)}\n",
        "        \n",
        "    def secant(self, x0, x1, verbose=False):\n",
        "        '''\n",
        "            Função que calcula o zero de funções com o método da Secante.\n",
        "            \n",
        "            O método iterativo é realizado da Seguinte forma:\n",
        "\n",
        "            x1 = (x0*f(x1) - x1*f(x0)) / (f(x1) - f(x0))  \n",
        "\n",
        "            Parametros\n",
        "            --------------\n",
        "            x0: float\n",
        "                Primeiro chute inicial.\n",
        "\n",
        "            x1: float\n",
        "                Segundo chute inicial.\n",
        "\n",
        "            verbose: bool, default=False\n",
        "                Se True, o progresso das iterações é impresso na tela.\n",
        "\n",
        "            Saída\n",
        "            -----------\n",
        "            dict contendo a quantidade de iterações necessárias para convergência\n",
        "            e valor x, tal que f(x) é aprox. 0.\n",
        "        '''\n",
        "        iter_ = 0\n",
        "\n",
        "        while( iter_ <= self.maxiter and round(abs(self.f(x1)), self.round_) > self.tol):\n",
        "            c = x1\n",
        "            x1 = round((x0*self.f(x1) - x1*self.f(x0)) / (self.f(x1) - self.f(x0)), self.round_)\n",
        "            x0 = c\n",
        "            iter_ += 1\n",
        "            if verbose:\n",
        "                print(f'Iterações: {iter_} \\t Aproximação: {x1}')\n",
        "\n",
        "        if iter_ > self.maxiter:\n",
        "            print(\"Número máximo de iterações alcançado!\")\n",
        "        else:\n",
        "            return {'iter':iter_, 'raiz': x1, 'f(x)':round(self.f(x1), self.round_)}\n"
      ],
      "execution_count": 1,
      "outputs": []
    },
    {
      "cell_type": "markdown",
      "metadata": {
        "id": "3yciG751T7j6"
      },
      "source": [
        "Definiu-se que para todos os testes que serão realizados a seguir  o número de casas decimais `round_ = 14` e o número máximo de iterações `maxiter = 40`. \n",
        "\n",
        "# **Função de teste 1**\n",
        "\n",
        "$f(x) = e^{-x^2} - \\cos x$\n",
        "\n",
        "$\\varepsilon = 10^{-7}$\n",
        "\n",
        "\n",
        "\n",
        "\n",
        "\n",
        "\n",
        "\n"
      ]
    },
    {
      "cell_type": "code",
      "metadata": {
        "colab": {
          "base_uri": "https://localhost:8080/",
          "height": 334
        },
        "id": "6EhUEz6QRW_l",
        "outputId": "9fdb7200-e7f6-4d83-aa54-6395137d7c6a"
      },
      "source": [
        "# Plot do gráfico da função de estudo 1.\n",
        "\n",
        "import matplotlib.pyplot as plt\n",
        "\n",
        "function  = lambda x: np.exp(-x**2) - np.cos(x)\n",
        "\n",
        "x = np.linspace(-4,4)\n",
        "plt.figure(figsize=(13,5))\n",
        "plt.plot(x, function(x))\n",
        "plt.xlabel('x', weight='bold')\n",
        "plt.ylabel('f(x)', weight='bold')\n",
        "plt.grid()\n",
        "plt.show()"
      ],
      "execution_count": 2,
      "outputs": [
        {
          "output_type": "display_data",
          "data": {
            "image/png": "[encoded data removed]",
            "text/plain": [
              "<Figure size 936x360 with 1 Axes>"
            ]
          },
          "metadata": {
            "tags": [],
            "needs_background": "light"
          }
        }
      ]
    },
    {
      "cell_type": "markdown",
      "metadata": {
        "id": "11KWGIplAQCD"
      },
      "source": [
        "Ao analisar o gráfico é possível observar várias raízes da função. Uma dessas raízes se encontra no intervalo entre $[1, 2]$ ou mais precisamente entre o intervalo $[1; 1,5]$, utilizaremos essa informação para ser explorada pelos métodos iterativos abaixo, na tentativa de aproximação do valor $x^*$, isto é, o zero da função. "
      ]
    },
    {
      "cell_type": "code",
      "metadata": {
        "id": "RAkrGjYlXwch"
      },
      "source": [
        "# Teste da função 1 pelos métodos iterativos.\n",
        "\n",
        "f = lambda x:np.exp(-x**2)-np.cos(x)\n",
        "df = lambda x: -2*x*np.exp(-x**2)+np.sin(x)\n",
        "g1 = lambda x: np.cos(x) + x - np.exp(-x**2) # Converge lentamente - 13 iterações\n",
        "g2 = lambda x: x + 1/0.6*(-np.exp(-x**2)+np.cos(x)) # Converge rapidamente - 5 iterações \n",
        "\n",
        "metodo = IterativeMethods(f=f, tol=1e-7, round_=14, maxiter=40)\n",
        "\n",
        "bisseccao = metodo.bisseccao(a=1, b=1.5)\n",
        "newton = metodo.newton(x0=1.5, df=df)\n",
        "secante = metodo.secant(x0=1, x1=1.5)\n",
        "pontoFixo = metodo.fixedpoint(x0=1.5, g=g2)"
      ],
      "execution_count": 3,
      "outputs": []
    },
    {
      "cell_type": "code",
      "metadata": {
        "colab": {
          "base_uri": "https://localhost:8080/",
          "height": 175
        },
        "id": "dVErkm7AXks0",
        "outputId": "78a86975-4341-4235-d85a-b9a2748d45a1"
      },
      "source": [
        "# Visualização em formato tabular dos resultados obtidos para a função 1.\n",
        "\n",
        "import pandas as pd\n",
        "\n",
        "pd.options.display.precision = 14\n",
        "results = pd.DataFrame({'Bissecção':bisseccao, 'Newton':newton, 'Secante':secante, 'Ponto Fixo': pontoFixo})\n",
        "\n",
        "results.rename(index={'iter':'Iterações', 'raiz':'Aproximação'}).T"
      ],
      "execution_count": 4,
      "outputs": [
        {
          "output_type": "execute_result",
          "data": {
            "text/html": [
              "<div>\n",
              "<style scoped>\n",
              "    .dataframe tbody tr th:only-of-type {\n",
              "        vertical-align: middle;\n",
              "    }\n",
              "\n",
              "    .dataframe tbody tr th {\n",
              "        vertical-align: top;\n",
              "    }\n",
              "\n",
              "    .dataframe thead th {\n",
              "        text-align: right;\n",
              "    }\n",
              "</style>\n",
              "<table border=\"1\" class=\"dataframe\">\n",
              "  <thead>\n",
              "    <tr style=\"text-align: right;\">\n",
              "      <th></th>\n",
              "      <th>Iterações</th>\n",
              "      <th>Aproximação</th>\n",
              "      <th>f(x)</th>\n",
              "    </tr>\n",
              "  </thead>\n",
              "  <tbody>\n",
              "    <tr>\n",
              "      <th>Bissecção</th>\n",
              "      <td>23.0</td>\n",
              "      <td>1.44741421937942</td>\n",
              "      <td>-0.00000003302604</td>\n",
              "    </tr>\n",
              "    <tr>\n",
              "      <th>Newton</th>\n",
              "      <td>3.0</td>\n",
              "      <td>1.44741427129931</td>\n",
              "      <td>0.00000000000196</td>\n",
              "    </tr>\n",
              "    <tr>\n",
              "      <th>Secante</th>\n",
              "      <td>4.0</td>\n",
              "      <td>1.44741424993837</td>\n",
              "      <td>-0.00000001358646</td>\n",
              "    </tr>\n",
              "    <tr>\n",
              "      <th>Ponto Fixo</th>\n",
              "      <td>5.0</td>\n",
              "      <td>1.44741420734217</td>\n",
              "      <td>-0.00000004068334</td>\n",
              "    </tr>\n",
              "  </tbody>\n",
              "</table>\n",
              "</div>"
            ],
            "text/plain": [
              "            Iterações       Aproximação              f(x)\n",
              "Bissecção        23.0  1.44741421937942 -0.00000003302604\n",
              "Newton            3.0  1.44741427129931  0.00000000000196\n",
              "Secante           4.0  1.44741424993837 -0.00000001358646\n",
              "Ponto Fixo        5.0  1.44741420734217 -0.00000004068334"
            ]
          },
          "metadata": {
            "tags": []
          },
          "execution_count": 4
        }
      ]
    },
    {
      "cell_type": "markdown",
      "metadata": {
        "id": "BknMpRCnBfh6"
      },
      "source": [
        "Ao analisar os resultados obtidos podemos perceber que o método da bisseccão foi o mais lento e menos preciso. Enquanto que, os demais métodos atingiram a convergência em menos de 10 iterações. O método de Newton, foi o método mais rápido e preciso, pois necessitou da menor quantidade de iterações e o valor de $f(x^*)$ mais próximo de zero. "
      ]
    },
    {
      "cell_type": "code",
      "metadata": {
        "colab": {
          "base_uri": "https://localhost:8080/",
          "height": 334
        },
        "id": "pP-qqm8lUqxS",
        "outputId": "0be15dfa-c674-4145-c4a0-582fcfd15020"
      },
      "source": [
        "# Plot da função de estudo 1 com a aproximação encontrada pelos métodos.\n",
        "\n",
        "import matplotlib.pyplot as plt\n",
        "\n",
        "function  = lambda x: np.exp(-x**2) - np.cos(x)\n",
        "\n",
        "x = np.linspace(-6,6)\n",
        "plt.figure(figsize=(13,5))\n",
        "plt.plot(x, function(x))\n",
        "plt.scatter(1.44741427129931,0, label='Aproximação encontrada', c='r')\n",
        "plt.xlabel('x', weight='bold')\n",
        "plt.ylabel('f(x)', weight='bold')\n",
        "plt.legend()\n",
        "plt.grid()\n",
        "plt.show()"
      ],
      "execution_count": 5,
      "outputs": [
        {
          "output_type": "display_data",
          "data": {
            "image/png": "[encoded data removed]",
            "text/plain": [
              "<Figure size 936x360 with 1 Axes>"
            ]
          },
          "metadata": {
            "tags": [],
            "needs_background": "light"
          }
        }
      ]
    },
    {
      "cell_type": "markdown",
      "metadata": {
        "id": "QHAnmvPpif_n"
      },
      "source": [
        "# **Função de teste 2**\n",
        "\n",
        "$f(x) = x^3 - x - 1$\n",
        "\n",
        "$\\varepsilon = 10^{-5}$"
      ]
    },
    {
      "cell_type": "code",
      "metadata": {
        "colab": {
          "base_uri": "https://localhost:8080/",
          "height": 334
        },
        "id": "yJVOH3DtVOyM",
        "outputId": "892558de-2be1-4948-cc5f-2123c0c8e6f4"
      },
      "source": [
        "# Plot do gráfico da função de estudo 2\n",
        "\n",
        "import matplotlib.pyplot as plt\n",
        "\n",
        "function  = lambda x: x**3 - x - 1\n",
        "\n",
        "x = np.linspace(-2,2)\n",
        "plt.figure(figsize=(13,5))\n",
        "plt.plot(x, function(x))\n",
        "plt.xlabel('x', weight='bold')\n",
        "plt.ylabel('f(x)', weight='bold')\n",
        "plt.grid()\n",
        "plt.show()"
      ],
      "execution_count": 6,
      "outputs": [
        {
          "output_type": "display_data",
          "data": {
            "image/png": "[encoded data removed]",
            "text/plain": [
              "<Figure size 936x360 with 1 Axes>"
            ]
          },
          "metadata": {
            "tags": [],
            "needs_background": "light"
          }
        }
      ]
    },
    {
      "cell_type": "markdown",
      "metadata": {
        "id": "mymUvkz1DSo9"
      },
      "source": [
        "Ao analisar o gráfico acima podemos observar a existência de uma raíz localizada no intervalo $[0; 1,5]$ para esta função. Essa informação será utilizada pelos métodos a seguir."
      ]
    },
    {
      "cell_type": "code",
      "metadata": {
        "id": "WVidFllfkUoi"
      },
      "source": [
        "# Teste da função 2 pelos métodos iterativos\n",
        "\n",
        "f = lambda x: x**3 - x - 1\n",
        "df = lambda x: 3*x**2 - 1\n",
        "\n",
        "g1 = lambda x: x**3 - 1 # Overflow erro no arredondamento\n",
        "g2 = lambda x: (x + 1)**1/3 # não converge\n",
        "g3 = lambda x: 1/x**2 - 1  # divisão por zero\n",
        "g4 = lambda x: ((1/x)+1)**0.5 # converge em 9 iterações\n",
        "\n",
        "\n",
        "metodo = IterativeMethods(f=f, tol=1e-5, round_=14, maxiter=40)\n",
        "\n",
        "bisseccao = metodo.bisseccao(a=0, b=1.5)\n",
        "newton = metodo.newton(x0=0, df=df)\n",
        "secante = metodo.secant(x0=0, x1=0.5)\n",
        "pontoFixo = metodo.fixedpoint(x0=0.5, g=g4)"
      ],
      "execution_count": 7,
      "outputs": []
    },
    {
      "cell_type": "code",
      "metadata": {
        "colab": {
          "base_uri": "https://localhost:8080/",
          "height": 175
        },
        "id": "nJWKGCT6wLmO",
        "outputId": "d95b1eff-ce74-4abe-b72e-81670f1a19af"
      },
      "source": [
        "# Visualização em formato tabular dos resultados para função de estudo 2.\n",
        "\n",
        "import pandas as pd\n",
        "\n",
        "pd.options.display.precision = 14\n",
        "results = pd.DataFrame({'Bissecção':bisseccao, 'Newton':newton, 'Secante':secante, 'Ponto Fixo': pontoFixo})\n",
        "\n",
        "results.rename(index={'iter':'Iterações', 'raiz':'Aproximação'}).T"
      ],
      "execution_count": 8,
      "outputs": [
        {
          "output_type": "execute_result",
          "data": {
            "text/html": [
              "<div>\n",
              "<style scoped>\n",
              "    .dataframe tbody tr th:only-of-type {\n",
              "        vertical-align: middle;\n",
              "    }\n",
              "\n",
              "    .dataframe tbody tr th {\n",
              "        vertical-align: top;\n",
              "    }\n",
              "\n",
              "    .dataframe thead th {\n",
              "        text-align: right;\n",
              "    }\n",
              "</style>\n",
              "<table border=\"1\" class=\"dataframe\">\n",
              "  <thead>\n",
              "    <tr style=\"text-align: right;\">\n",
              "      <th></th>\n",
              "      <th>Iterações</th>\n",
              "      <th>Aproximação</th>\n",
              "      <th>f(x)</th>\n",
              "    </tr>\n",
              "  </thead>\n",
              "  <tbody>\n",
              "    <tr>\n",
              "      <th>Bissecção</th>\n",
              "      <td>18.0</td>\n",
              "      <td>1.32471656799317</td>\n",
              "      <td>-0.00000592464044</td>\n",
              "    </tr>\n",
              "    <tr>\n",
              "      <th>Newton</th>\n",
              "      <td>20.0</td>\n",
              "      <td>1.32471878861526</td>\n",
              "      <td>0.00000354549288</td>\n",
              "    </tr>\n",
              "    <tr>\n",
              "      <th>Secante</th>\n",
              "      <td>26.0</td>\n",
              "      <td>1.32471794706667</td>\n",
              "      <td>-0.00000004340576</td>\n",
              "    </tr>\n",
              "    <tr>\n",
              "      <th>Ponto Fixo</th>\n",
              "      <td>9.0</td>\n",
              "      <td>1.32471948003467</td>\n",
              "      <td>0.00000649414938</td>\n",
              "    </tr>\n",
              "  </tbody>\n",
              "</table>\n",
              "</div>"
            ],
            "text/plain": [
              "            Iterações       Aproximação              f(x)\n",
              "Bissecção        18.0  1.32471656799317 -0.00000592464044\n",
              "Newton           20.0  1.32471878861526  0.00000354549288\n",
              "Secante          26.0  1.32471794706667 -0.00000004340576\n",
              "Ponto Fixo        9.0  1.32471948003467  0.00000649414938"
            ]
          },
          "metadata": {
            "tags": []
          },
          "execution_count": 8
        }
      ]
    },
    {
      "cell_type": "markdown",
      "metadata": {
        "id": "Nhty7NfzEOm0"
      },
      "source": [
        "Para esta função o método da Secante foi o mais lento necessitando de 26 iterações para atingir a convergência. O método do Ponto Fixo foi o mais rápido de todos e necessitou de apenas 9 iterações. Apesar do método da Secante ter sido o método mais lento o valor da sua $f(x^*)$ foi o mais próxima de zero tendo encontrado, portanto, a aproximação mais precisa."
      ]
    },
    {
      "cell_type": "code",
      "metadata": {
        "colab": {
          "base_uri": "https://localhost:8080/",
          "height": 334
        },
        "id": "4DfPZlfXV0CQ",
        "outputId": "16104b33-e566-415c-ce2a-d6ee59ea5865"
      },
      "source": [
        "# Plot do gráfico da função de estudo 2 e a aproximação encontrada pelos métodos.\n",
        "\n",
        "import matplotlib.pyplot as plt\n",
        "\n",
        "function  = lambda x: x**3 - x - 1\n",
        "\n",
        "x = np.linspace(-2,2)\n",
        "plt.figure(figsize=(13,5))\n",
        "plt.plot(x, function(x))\n",
        "plt.scatter(1.32471794706667, 0, label='Aproximação encontrada', c='r')\n",
        "plt.xlabel('x', weight='bold')\n",
        "plt.ylabel('f(x)', weight='bold')\n",
        "plt.legend()\n",
        "plt.grid()\n",
        "plt.show()"
      ],
      "execution_count": 9,
      "outputs": [
        {
          "output_type": "display_data",
          "data": {
            "image/png": "[encoded data removed]",
            "text/plain": [
              "<Figure size 936x360 with 1 Axes>"
            ]
          },
          "metadata": {
            "tags": [],
            "needs_background": "light"
          }
        }
      ]
    },
    {
      "cell_type": "markdown",
      "metadata": {
        "id": "TJf8T3J6_t4v"
      },
      "source": [
        "# **Função de teste 3**\n",
        "\n",
        "$f(x) = x^3-9x+2$  \n",
        "\n",
        "$\\varepsilon = 10^{-10}$"
      ]
    },
    {
      "cell_type": "code",
      "metadata": {
        "colab": {
          "base_uri": "https://localhost:8080/",
          "height": 334
        },
        "id": "jNfQtREYWOuB",
        "outputId": "6a2d5b94-f00d-4c20-b8c5-a140432838b4"
      },
      "source": [
        "# Plot do gráfico da função de estudo 3\n",
        "\n",
        "function = lambda x: x**3 - 9*x + 2\n",
        "\n",
        "x = np.linspace(-4,4)\n",
        "\n",
        "plt.figure(figsize=(13, 5))\n",
        "plt.plot(x, function(x))\n",
        "plt.xlabel('x', weight='bold')\n",
        "plt.ylabel('f(x)', weight='bold')\n",
        "plt.grid()\n",
        "plt.show()"
      ],
      "execution_count": 10,
      "outputs": [
        {
          "output_type": "display_data",
          "data": {
            "image/png": "[encoded data removed]",
            "text/plain": [
              "<Figure size 936x360 with 1 Axes>"
            ]
          },
          "metadata": {
            "tags": [],
            "needs_background": "light"
          }
        }
      ]
    },
    {
      "cell_type": "markdown",
      "metadata": {
        "id": "d6lstsPUGbHX"
      },
      "source": [
        "Ao analisar o gráfico da função de estudo 3 (três) podemos visualizar a presença de 3 (três) raízes, isto é corente, pois trata-se de uma raíz cúbica. Uma dessas raízes está localizada no intervalo entre $[0, 1]$. Sabendo disso, buscou-se encontrar o valor $x^*$ por meio dessa informação e utilizando os métodos iterativos a seguir."
      ]
    },
    {
      "cell_type": "code",
      "metadata": {
        "id": "b4M6IkXSBiu6"
      },
      "source": [
        "# Teste da função de estudo 3 pelos métodos iterativos\n",
        "\n",
        "f = lambda x: x**3 - 9*x + 2\n",
        "df = lambda x: 3*x**2 - 9\n",
        "\n",
        "g1 = lambda x: (x**3 + 2)/9 # converge em 6 iterações\n",
        "g2 = lambda x: - 2/(x**2 - 9) # converge em 6 iterações com maior precisão\n",
        "g3 = lambda x: (9*x - 2)**1/3 # não converge\n",
        "g4 = lambda x: (9-2/x)**1/2 # ocorre divisão por zero\n",
        "\n",
        "metodo = IterativeMethods(f=f, tol=1e-10, maxiter=40, round_=14)\n",
        "\n",
        "bisseccao = metodo.bisseccao(a=0, b=1)\n",
        "newton = metodo.newton(x0=0, df=df)\n",
        "secante = metodo.secant(x0=-0.5, x1=0)\n",
        "pontoFixo = metodo.fixedpoint(x0=0, g=g2)"
      ],
      "execution_count": 11,
      "outputs": []
    },
    {
      "cell_type": "code",
      "metadata": {
        "colab": {
          "base_uri": "https://localhost:8080/",
          "height": 175
        },
        "id": "NqoBDCY3EEEg",
        "outputId": "18e3b339-3098-4b9e-b733-b0b69fbd0a83"
      },
      "source": [
        "# Visualização em formato tabular dos resultados para a função de estudo 3\n",
        "\n",
        "import pandas as pd\n",
        "\n",
        "pd.options.display.precision = 14\n",
        "results = pd.DataFrame({'Bissecção':bisseccao, 'Newton':newton, 'Secante':secante, 'Ponto Fixo': pontoFixo})\n",
        "\n",
        "results.rename(index={'iter':'Iterações', 'raiz':'Aproximação'}).T"
      ],
      "execution_count": 12,
      "outputs": [
        {
          "output_type": "execute_result",
          "data": {
            "text/html": [
              "<div>\n",
              "<style scoped>\n",
              "    .dataframe tbody tr th:only-of-type {\n",
              "        vertical-align: middle;\n",
              "    }\n",
              "\n",
              "    .dataframe tbody tr th {\n",
              "        vertical-align: top;\n",
              "    }\n",
              "\n",
              "    .dataframe thead th {\n",
              "        text-align: right;\n",
              "    }\n",
              "</style>\n",
              "<table border=\"1\" class=\"dataframe\">\n",
              "  <thead>\n",
              "    <tr style=\"text-align: right;\">\n",
              "      <th></th>\n",
              "      <th>Iterações</th>\n",
              "      <th>Aproximação</th>\n",
              "      <th>f(x)</th>\n",
              "    </tr>\n",
              "  </thead>\n",
              "  <tbody>\n",
              "    <tr>\n",
              "      <th>Bissecção</th>\n",
              "      <td>34.0</td>\n",
              "      <td>0.22346206387737</td>\n",
              "      <td>0.00000006895952</td>\n",
              "    </tr>\n",
              "    <tr>\n",
              "      <th>Newton</th>\n",
              "      <td>3.0</td>\n",
              "      <td>0.22346207166923</td>\n",
              "      <td>0.00000000000005</td>\n",
              "    </tr>\n",
              "    <tr>\n",
              "      <th>Secante</th>\n",
              "      <td>4.0</td>\n",
              "      <td>0.22346207166933</td>\n",
              "      <td>-0.00000000000084</td>\n",
              "    </tr>\n",
              "    <tr>\n",
              "      <th>Ponto Fixo</th>\n",
              "      <td>6.0</td>\n",
              "      <td>0.22346207166902</td>\n",
              "      <td>0.00000000000191</td>\n",
              "    </tr>\n",
              "  </tbody>\n",
              "</table>\n",
              "</div>"
            ],
            "text/plain": [
              "            Iterações       Aproximação              f(x)\n",
              "Bissecção        34.0  0.22346206387737  0.00000006895952\n",
              "Newton            3.0  0.22346207166923  0.00000000000005\n",
              "Secante           4.0  0.22346207166933 -0.00000000000084\n",
              "Ponto Fixo        6.0  0.22346207166902  0.00000000000191"
            ]
          },
          "metadata": {
            "tags": []
          },
          "execution_count": 12
        }
      ]
    },
    {
      "cell_type": "markdown",
      "metadata": {
        "id": "Ma9vru9gIVnx"
      },
      "source": [
        "Dentre os 4 (quatro) métodos o mais lento e menos preciso foi o da bissecção, como pode ser observado acima. Esse método necessitou de um grande número de iterações para atingir a convergência 34 (trinta e quatro), enquanto que os demais necessitaram de menos de 10 iterações para convergir. O método de Newton assim como para a primeira função foi o método mais rápido e preciso obtendo $f(x^*)$ mais próximo de zero."
      ]
    },
    {
      "cell_type": "code",
      "metadata": {
        "colab": {
          "base_uri": "https://localhost:8080/",
          "height": 334
        },
        "id": "W4MbDaf9W_ix",
        "outputId": "77584c0d-1c55-4ff6-ab50-862d8bfcaf83"
      },
      "source": [
        "# Plot do gráfico da função de estudo 3 e a aproximação encontrada pelos métodos\n",
        "\n",
        "function = lambda x: x**3 - 9*x + 2\n",
        "\n",
        "x = np.linspace(-4,4)\n",
        "\n",
        "plt.figure(figsize=(13, 5))\n",
        "plt.plot(x, function(x))\n",
        "plt.scatter(0.22346207166923, 0, label='Aproximação encontrada', c='r')\n",
        "plt.xlabel('x', weight='bold')\n",
        "plt.ylabel('f(x)', weight='bold')\n",
        "plt.legend()\n",
        "plt.grid()\n",
        "plt.show()"
      ],
      "execution_count": 13,
      "outputs": [
        {
          "output_type": "display_data",
          "data": {
            "image/png": "[encoded data removed]",
            "text/plain": [
              "<Figure size 936x360 with 1 Axes>"
            ]
          },
          "metadata": {
            "tags": [],
            "needs_background": "light"
          }
        }
      ]
    },
    {
      "cell_type": "markdown",
      "metadata": {
        "id": "sVKUM_FRJx0K"
      },
      "source": [
        "# **Considerações finais**\n",
        "\n",
        "Podemos observar que em dois dos testes realizados o método da bissecção foi o mais lento com necessidade de um grande número de iterações para alcançar a convergência. Em dois teste (função 1 e função 3) o método de Newton foi o mais rápido e preciso de todos necessitando de apenas 3 iterações para convergência. Em apenas um teste (função 2) o método da Secante não foi eficiente, nos demais sempre esteve entre os métodos maís rápidos, porém, sendo inferior ao método de Newton. O método do ponto fixo demonstrou bom desempenho com poucas iterações e assim como o método de Newton em nenhum dos testes resultou no pior desempenho.\n",
        "\n",
        "Vale ressaltar que os resultados obtidos são estritamente condicionados aos valores de entrada fornecidos para cada um dos métodos não sendo possível, dessa forma, realizar qualquer tipo de afirmação categórica ou conclusão definitiva acerca da eficiência dos métodos iterativos abordados. "
      ]
    }
  ]
}